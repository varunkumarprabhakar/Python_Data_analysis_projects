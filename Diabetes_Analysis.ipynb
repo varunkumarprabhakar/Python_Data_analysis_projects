{
  "nbformat": 4,
  "nbformat_minor": 0,
  "metadata": {
    "colab": {
      "provenance": [],
      "authorship_tag": "ABX9TyPlMIQmh1RjLkz7Wob0Q2o4",
      "include_colab_link": true
    },
    "kernelspec": {
      "name": "python3",
      "display_name": "Python 3"
    },
    "language_info": {
      "name": "python"
    }
  },
  "cells": [
    {
      "cell_type": "markdown",
      "metadata": {
        "id": "view-in-github",
        "colab_type": "text"
      },
      "source": [
        "<a href=\"https://colab.research.google.com/github/varunkumarprabhakar/Python_Data_analysis_projects/blob/main/Diabetes_Analysis.ipynb\" target=\"_parent\"><img src=\"https://colab.research.google.com/assets/colab-badge.svg\" alt=\"Open In Colab\"/></a>"
      ]
    },
    {
      "cell_type": "markdown",
      "source": [
        "# **Exercise 3: Linear Regression**\n",
        "Problem Statement:\n",
        "Using Scikit-Learn:\n",
        "1. Load the diabetes dataset from Scikit-Learn.\n",
        "2. Use the bmi feature to predict the target (disease progression).\n",
        "3. Split the data into training and testing sets (80% training, 20% testing).\n",
        "4. Train a linear regression model.\n",
        "5. Evaluate the model using Mean Squared Error (MSE) on the test set.\n"
      ],
      "metadata": {
        "id": "W-gnHQ29Noxx"
      }
    },
    {
      "cell_type": "code",
      "source": [
        "#import libraries\n",
        "import numpy as np\n",
        "from sklearn import datasets\n",
        "from sklearn.model_selection import train_test_split\n",
        "from sklearn.linear_model import LinearRegression\n",
        "from sklearn.metrics import mean_squared_error\n",
        "import matplotlib.pyplot as plt"
      ],
      "metadata": {
        "id": "XNPY2YvnN1fb"
      },
      "execution_count": 1,
      "outputs": []
    },
    {
      "cell_type": "code",
      "source": [
        "# Load the Datasets\n",
        "diabetes=datasets.load_diabetes()"
      ],
      "metadata": {
        "id": "GzdRU-uAUrVi"
      },
      "execution_count": 2,
      "outputs": []
    },
    {
      "cell_type": "code",
      "source": [
        "diabetes.keys()"
      ],
      "metadata": {
        "colab": {
          "base_uri": "https://localhost:8080/"
        },
        "id": "H6d3TcQ_WZfq",
        "outputId": "dab959b0-2455-465d-f54c-c044ca3b7ee0"
      },
      "execution_count": 3,
      "outputs": [
        {
          "output_type": "execute_result",
          "data": {
            "text/plain": [
              "dict_keys(['data', 'target', 'frame', 'DESCR', 'feature_names', 'data_filename', 'target_filename', 'data_module'])"
            ]
          },
          "metadata": {},
          "execution_count": 3
        }
      ]
    },
    {
      "cell_type": "code",
      "source": [
        "diabetes.feature_names"
      ],
      "metadata": {
        "colab": {
          "base_uri": "https://localhost:8080/"
        },
        "id": "NgmN530WWcL-",
        "outputId": "de51271b-ae44-4847-d857-74a1c4bba6a0"
      },
      "execution_count": 4,
      "outputs": [
        {
          "output_type": "execute_result",
          "data": {
            "text/plain": [
              "['age', 'sex', 'bmi', 'bp', 's1', 's2', 's3', 's4', 's5', 's6']"
            ]
          },
          "metadata": {},
          "execution_count": 4
        }
      ]
    },
    {
      "cell_type": "code",
      "source": [
        "X=diabetes.data[:,np.newaxis,2]    # to use only BMI features from dataset"
      ],
      "metadata": {
        "id": "7FUMe-L5lSJo"
      },
      "execution_count": 5,
      "outputs": []
    },
    {
      "cell_type": "code",
      "source": [
        "X.shape"
      ],
      "metadata": {
        "colab": {
          "base_uri": "https://localhost:8080/"
        },
        "id": "Z6JcnXtRlsAY",
        "outputId": "ab806fed-ffc6-49bf-e07c-9f9aea6e62f4"
      },
      "execution_count": 6,
      "outputs": [
        {
          "output_type": "execute_result",
          "data": {
            "text/plain": [
              "(442, 1)"
            ]
          },
          "metadata": {},
          "execution_count": 6
        }
      ]
    },
    {
      "cell_type": "code",
      "source": [
        "y=diabetes.target"
      ],
      "metadata": {
        "id": "AQ-Q5yCel25o"
      },
      "execution_count": 7,
      "outputs": []
    },
    {
      "cell_type": "code",
      "source": [
        "# spliting the data into train & test\n",
        "X_train,X_test,y_train,y_test=train_test_split(X,y, test_size=0.2,random_state=42)"
      ],
      "metadata": {
        "id": "F1Fx3gqXmV7_"
      },
      "execution_count": 8,
      "outputs": []
    },
    {
      "cell_type": "code",
      "source": [
        "# create a Linear Regression object\n",
        "rmodel= LinearRegression()\n",
        "\n",
        "#train the model using training data\n",
        "rmodel.fit(X_train,y_train)\n",
        "\n",
        "# make the prediction\n",
        "\n",
        "y_pred=rmodel.predict(X_test)"
      ],
      "metadata": {
        "id": "CWJmtWp3mV5P"
      },
      "execution_count": 9,
      "outputs": []
    },
    {
      "cell_type": "code",
      "source": [
        "# Evaluate the model\n",
        "mse=mean_squared_error(y_test,y_pred)"
      ],
      "metadata": {
        "id": "dZn5EMprmV2w"
      },
      "execution_count": 10,
      "outputs": []
    },
    {
      "cell_type": "code",
      "source": [
        "# Display the coeff and mse\n",
        "\n",
        "print('theta0/slope= ',rmodel.coef_)\n",
        "print('thetax/intercept= ',rmodel.intercept_)     #h(x)=theta0+theta1 => y=mx+c\n",
        "print('mean square error= ',mse)"
      ],
      "metadata": {
        "colab": {
          "base_uri": "https://localhost:8080/"
        },
        "id": "G5h_aFVC1HcG",
        "outputId": "83063159-4789-40c4-8d97-514d1722997c"
      },
      "execution_count": 11,
      "outputs": [
        {
          "output_type": "stream",
          "name": "stdout",
          "text": [
            "theta0/slope=  [998.57768914]\n",
            "thetax/intercept=  152.00335421448167\n",
            "mean square error=  4061.8259284949268\n"
          ]
        }
      ]
    },
    {
      "cell_type": "code",
      "source": [
        "#plot the test data\n",
        "plt.scatter(X_test,y_test)\n",
        "plt.plot(X_test,y_pred,color='red')\n",
        "plt.title('Test data with linear model')\n",
        "plt.xlabel('X_test-BMI')\n",
        "plt.ylabel('diabetes progression')"
      ],
      "metadata": {
        "colab": {
          "base_uri": "https://localhost:8080/",
          "height": 489
        },
        "id": "B8YbNJp4AU9p",
        "outputId": "5b8576c5-df2d-4fde-9a8d-9182a5f705b5"
      },
      "execution_count": 12,
      "outputs": [
        {
          "output_type": "execute_result",
          "data": {
            "text/plain": [
              "Text(0, 0.5, 'diabetes progression')"
            ]
          },
          "metadata": {},
          "execution_count": 12
        },
        {
          "output_type": "display_data",
          "data": {
            "text/plain": [
              "<Figure size 640x480 with 1 Axes>"
            ],
            "image/png": "[encoded data removed]"
          },
          "metadata": {}
        }
      ]
    }
  ]
}